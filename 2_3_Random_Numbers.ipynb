{
  "nbformat": 4,
  "nbformat_minor": 0,
  "metadata": {
    "colab": {
      "name": "2.3_Random_Numbers.ipynb",
      "provenance": [],
      "collapsed_sections": [],
      "include_colab_link": true
    },
    "kernelspec": {
      "name": "python3",
      "display_name": "Python 3"
    },
    "language_info": {
      "name": "python"
    }
  },
  "cells": [
    {
      "cell_type": "markdown",
      "metadata": {
        "id": "view-in-github",
        "colab_type": "text"
      },
      "source": [
        "<a href=\"https://colab.research.google.com/github/bilge-idTech/Artificial-Intelligence-and-Machine-Learning-with-NVIDIA/blob/main/2_3_Random_Numbers.ipynb\" target=\"_parent\"><img src=\"https://colab.research.google.com/assets/colab-badge.svg\" alt=\"Open In Colab\"/></a>"
      ]
    },
    {
      "cell_type": "markdown",
      "metadata": {
        "id": "gpkny-jI3t3J"
      },
      "source": [
        "#Random Numbers\n",
        "\n",
        "Programs often require the use of random numbers in everything from games to cyber security.\n",
        "\n",
        "To see random numbers in action, you'll make a virtual board game where the player rolls dice.\n",
        "\n",
        "The first step in generating a random number is importing the random number generator. It's common for a programming language to have extra libraries that need to be imported.\n",
        "\n",
        "A **library** is a collection of code made by other programmers for you to import and use.\n",
        "\n",
        "1. Run the cell below to import the random library\n"
      ]
    },
    {
      "cell_type": "code",
      "metadata": {
        "id": "H5eLo-7PxWPK"
      },
      "source": [
        "import random"
      ],
      "execution_count": null,
      "outputs": []
    },
    {
      "cell_type": "markdown",
      "metadata": {
        "id": "utwpcmSd4E0M"
      },
      "source": [
        "##Setting the Range\n",
        "\n",
        "When using a random number, it's important to set the range. For example, a Roll the Dice program could roll a 12-sided die, generating a random number between 1 and 12, including the end numbers.\n",
        "\n",
        "1. Add a print statement to the code below to let the user know that a random number is being generated.\n",
        "\n",
        "2. Run the cell to see a random number. "
      ]
    },
    {
      "cell_type": "code",
      "metadata": {
        "id": "49_FopAR4Sci"
      },
      "source": [
        "# Add your print statement here:\n",
        "\n",
        "# Print out a random number between 1 and 12.\n",
        "print (random.randint(1, 12))"
      ],
      "execution_count": null,
      "outputs": []
    },
    {
      "cell_type": "markdown",
      "metadata": {
        "id": "Utl--Pdy4bJO"
      },
      "source": [
        "###Try this!\n",
        "\n",
        "Can you generate 10 random numbers between 1 and 100? \n"
      ]
    },
    {
      "cell_type": "code",
      "metadata": {
        "id": "r31RkdoT4jP5"
      },
      "source": [
        "# Add your code to generate 10 random numbers here:\n",
        "\n"
      ],
      "execution_count": null,
      "outputs": []
    }
  ]
}