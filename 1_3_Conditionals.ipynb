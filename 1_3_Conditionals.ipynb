{
  "nbformat": 4,
  "nbformat_minor": 0,
  "metadata": {
    "colab": {
      "name": "1.3_Conditionals.ipynb",
      "provenance": [],
      "collapsed_sections": [],
      "include_colab_link": true
    },
    "kernelspec": {
      "name": "python3",
      "display_name": "Python 3"
    },
    "language_info": {
      "name": "python"
    }
  },
  "cells": [
    {
      "cell_type": "markdown",
      "metadata": {
        "id": "view-in-github",
        "colab_type": "text"
      },
      "source": [
        "<a href=\"https://colab.research.google.com/github/bilge-idTech/Artificial-Intelligence-and-Machine-Learning-with-NVIDIA/blob/main/1_3_Conditionals.ipynb\" target=\"_parent\"><img src=\"https://colab.research.google.com/assets/colab-badge.svg\" alt=\"Open In Colab\"/></a>"
      ]
    },
    {
      "cell_type": "markdown",
      "metadata": {
        "id": "CmsisSamjUbj"
      },
      "source": [
        "#If Statements\n",
        "\n",
        "An **if statement** runs a block of code based on whether or not a condition is true.\n",
        "\n",
        "1. Run the cell below to see it in action."
      ]
    },
    {
      "cell_type": "code",
      "metadata": {
        "id": "DBFxGRpljSeV"
      },
      "source": [
        "#  Create two variables below.\n",
        "a = 6\n",
        "b = 3\n",
        "# Add an if statement\n",
        "if a > b:\n",
        "  print(\"a is greater than b\")"
      ],
      "execution_count": null,
      "outputs": []
    },
    {
      "cell_type": "markdown",
      "metadata": {
        "id": "wGcs9inAj2TD"
      },
      "source": [
        "2. Run the next cell to see the same code with the values reversed"
      ]
    },
    {
      "cell_type": "code",
      "metadata": {
        "id": "muD5Yflvj7BF"
      },
      "source": [
        "#  Create two variables below.\n",
        "a = 3\n",
        "b = 6\n",
        "# Add an if statement\n",
        "if a > b:\n",
        "  print(\"a is greater than b\")"
      ],
      "execution_count": null,
      "outputs": []
    },
    {
      "cell_type": "markdown",
      "metadata": {
        "id": "7no_AKdFj-vf"
      },
      "source": [
        "**What differences did you notice between both outputs?**\n",
        "\n",
        "If statements only run if the condition is true, so the above statement only runs when a is greater than b."
      ]
    },
    {
      "cell_type": "markdown",
      "metadata": {
        "id": "3wAfAHK_kGE6"
      },
      "source": [
        "##Indentation##\n",
        "\n",
        "In Python, indentation is how code relationships are shown. Anything indented from the line above it is part of the same statement.\n",
        "\n",
        "1. Try running the cell below. You should see 2 printed to the screen."
      ]
    },
    {
      "cell_type": "code",
      "metadata": {
        "id": "u1cqIpwFkN0O"
      },
      "source": [
        "x = 2 \n",
        "print(x) \n",
        "if x > 3:\n",
        "  x += 2\n",
        "  print(x)"
      ],
      "execution_count": null,
      "outputs": []
    },
    {
      "cell_type": "markdown",
      "metadata": {
        "id": "i5uB0259kUUZ"
      },
      "source": [
        "2. Now run the same code indented slightly differently."
      ]
    },
    {
      "cell_type": "code",
      "metadata": {
        "id": "hKt7DuFJkia4"
      },
      "source": [
        "x = 2 \n",
        "print(x) \n",
        "if x > 3:\n",
        "  x += 2\n",
        "print(x)"
      ],
      "execution_count": null,
      "outputs": []
    },
    {
      "cell_type": "markdown",
      "metadata": {
        "id": "PmKoCVt9k0q6"
      },
      "source": [
        "You can see that if it is indented, it is included in the if statement, and if it isn't it isn't affected by the if statement. \n",
        "\n",
        "1. Can you fix the code below so that the output is:\n",
        "\n",
        "\n",
        "```\n",
        "Lizards\n",
        "are \n",
        "cool\n",
        "```\n",
        "\n"
      ]
    },
    {
      "cell_type": "code",
      "metadata": {
        "id": "3kzswG51lZBb"
      },
      "source": [
        "z = 1\n",
        "y = 4\n",
        "\n",
        "print(\"Lizards \")\n",
        "print(\"are \")\n",
        "if y > 4:\n",
        "  y+=1\n",
        "print(\"not \")\n",
        "print(\"cool\")\n"
      ],
      "execution_count": null,
      "outputs": []
    },
    {
      "cell_type": "markdown",
      "metadata": {
        "id": "e0jGVqWEl5br"
      },
      "source": [
        "##Boolean Values\n",
        "\n",
        "Remember that a boolean value is either true or false.\n",
        "\n",
        "1. Run the cell below."
      ]
    },
    {
      "cell_type": "code",
      "metadata": {
        "id": "OR4RsisKmCH2"
      },
      "source": [
        "# Create a variable called has_key\n",
        "has_key = True "
      ],
      "execution_count": null,
      "outputs": []
    },
    {
      "cell_type": "markdown",
      "metadata": {
        "id": "u3aRScC4mLcr"
      },
      "source": [
        "2. Add an if statement to let the player know they won if they have the key"
      ]
    },
    {
      "cell_type": "code",
      "metadata": {
        "id": "EqtbESXImRF1"
      },
      "source": [
        "if has_key == True:\n",
        "  print(\"You won! Unlock the door!\") "
      ],
      "execution_count": null,
      "outputs": []
    },
    {
      "cell_type": "markdown",
      "metadata": {
        "id": "brcDxgdLmWV4"
      },
      "source": [
        "Can you make an if statement letting the player know they lost if they do not have the key? \n",
        "\n",
        "3. Add the code below"
      ]
    },
    {
      "cell_type": "code",
      "metadata": {
        "id": "cIFt4lvymgil"
      },
      "source": [
        "has_key = False\n",
        "\n",
        "# Write your if statement below\n"
      ],
      "execution_count": null,
      "outputs": []
    },
    {
      "cell_type": "markdown",
      "metadata": {
        "id": "qE5eBr8-mlcv"
      },
      "source": [
        "## Relational Operators\n",
        "You can use the following symbols, called relational operators, to compare two values in an if statement:\n",
        "\n",
        "\n",
        "\n",
        "\n",
        "<table border=\"0\">\n",
        "<tr width=100%>\n",
        "<td width=60%> \n",
        "\n",
        "- ```> ```\n",
        "- ```<```\n",
        "- ```<=```\n",
        "- ```>=```\n",
        "\n",
        "\n",
        "</td>\n",
        "<td width=60%> \n",
        "\n",
        "- ```==```\n",
        "- ```and```\n",
        "- ```or```\n",
        "- ```not``` \n",
        "</td>\n",
        "</tr>\n",
        "</table>\n",
        "\n",
        "You can also print out true/false checks with a print statement!\n",
        "\n",
        "1. Look at the code below, and try to guess what the output of each statement is going to be before you run it."
      ]
    },
    {
      "cell_type": "code",
      "metadata": {
        "id": "7ySgQ_NxnVP2"
      },
      "source": [
        "# checks if 5 is greater than 4.\n",
        "print(5 > 4)  \n",
        "\n",
        "# checks if 10 is equal to 10.\n",
        "print(10 == 10) \n",
        "\n",
        "# checks if 5 is less than 10.\n",
        "print(5 < 10)  \n",
        "\n",
        "#  checks if 4 is not greater than 5.\n",
        "print(not 4>5) \n",
        "\n",
        "# checks if f is greater than 4 and has_key is true\n",
        "print(5>4 and has_key == True)\n",
        "\n",
        "# checks if either 4 is greater than 5 or 4 is greater that 6.\n",
        "print(4>5 or 4>6)"
      ],
      "execution_count": null,
      "outputs": []
    },
    {
      "cell_type": "markdown",
      "metadata": {
        "id": "Hr4w9RYnnzl9"
      },
      "source": [
        "##Elif and Else Practice\n",
        "\n",
        "If statements pair up with elif (short for \"else if\") and else statements to perform a series of checks.\n",
        "\n",
        "1. Run the cell below to see a full if/elif/else block"
      ]
    },
    {
      "cell_type": "code",
      "metadata": {
        "id": "dw2YL4aOnzPN"
      },
      "source": [
        "player_age = 12\n",
        "\n",
        "if player_age >= 18:\n",
        "    print(\"You could be in college.\")\n",
        "elif player_age >= 13:\n",
        "    print(\"You can also attend iD Academies!\")\n",
        "elif player_age >= 7:\n",
        "    print(\"You can attend iD Tech Camps!\")\n",
        "else:\n",
        "    print(\"You're young.\")"
      ],
      "execution_count": null,
      "outputs": []
    },
    {
      "cell_type": "markdown",
      "metadata": {
        "id": "LSSEZ2aHoDQ0"
      },
      "source": [
        "If and elif statements always look for a specific condition:\n",
        "\n",
        "- ```if player_age > 18 : ``` Happens if the age is greater than 18.\n",
        "\n",
        "- ```elif player_age > 13 : ``` Only happens if the age is not greater than 18 and greater than 13.\n",
        "\n",
        "\n",
        "An else statement doesn't look for a specific condition. Else statements occur after an if or elif statement in your code.\n",
        "\n",
        "- ```if player_age > 18 : ```Happens if the age is greater than 18.\n",
        "\n",
        "- ``` else : ``` Would happen for any other age not specified above.\n",
        "\n",
        "Every if - elif - else block must begin with one regular if statement, and end with a single else statement, but you can have as many elif statements in the middle as you want!\n",
        "\n",
        "###Now it's your turn!### \n",
        "\n",
        "Add another check to the if/elif/else block to see if you aren't even in school yet! \n"
      ]
    },
    {
      "cell_type": "code",
      "metadata": {
        "id": "HYGP67OOoxXD"
      },
      "source": [
        "player_age = 12\n",
        "\n",
        "if player_age >= 18:\n",
        "    print(\"You could be in college.\")\n",
        "elif player_age >= 13:\n",
        "    print(\"You can also attend iD Academies!\")\n",
        "elif player_age >= 7:\n",
        "    print(\"You can attend iD Tech Camps!\")\n",
        "# Add another check here\n",
        "else:\n",
        "    print(\"You're young.\")"
      ],
      "execution_count": null,
      "outputs": []
    },
    {
      "cell_type": "markdown",
      "metadata": {
        "id": "Vwu_tgg-o4yH"
      },
      "source": [
        "##Comparison Keywords\n",
        "\n",
        "What if you want to check a couple of things at once? Use **and** to check if two conditions are true.\n",
        "\n",
        "For example, ``` if x > 2 and x < 4``` does something only if both are true.\n",
        "\n",
        "1. Can you edit the variables below so that the code prints out \"You won the game!\"?"
      ]
    },
    {
      "cell_type": "code",
      "metadata": {
        "id": "tRugslMGo--w"
      },
      "source": [
        "player_has_item = False\n",
        "score = 50\n",
        "\n",
        "# Do not touch below here ------------------------------------------------------------\n",
        "won = False\n",
        "\n",
        "if player_has_item and score > 100:\n",
        "    won = True\n",
        "\n",
        "if not won:\n",
        "    print(\"You haven't beaten the game yet.\")\n",
        "elif won:\n",
        "    print(\"You won the game!\")"
      ],
      "execution_count": null,
      "outputs": []
    },
    {
      "cell_type": "markdown",
      "metadata": {
        "id": "J4COLHr4pQUt"
      },
      "source": [
        "Use **or** to check if either condition is true. If either one is true, the if statement will run its code.\n",
        "\n",
        " For example ```if score > 100 or player_has_item :```   does something if either case is true. \\\n",
        "\n",
        "2. Can you edit the code so it prints out the \"You won the game!\" statement. Make as few changes as possible.\n",
        "\n"
      ]
    },
    {
      "cell_type": "code",
      "metadata": {
        "id": "bPzpuQ6nplDD"
      },
      "source": [
        "player_has_item = False\n",
        "score = 100\n",
        "\n",
        "# Do not touch below here ------------------------------------------------------------\n",
        "won = False\n",
        "\n",
        "if player_has_item or score > 200:\n",
        "    won = True\n",
        "\n",
        "if not won:\n",
        "    print(\"You haven't beaten the game yet.\")\n",
        "elif won:\n",
        "    print(\"You won the game!\")"
      ],
      "execution_count": null,
      "outputs": []
    },
    {
      "cell_type": "markdown",
      "metadata": {
        "id": "3yeZbWZop5hM"
      },
      "source": [
        "Another keyword, not, checks if something is false.\n",
        "\n",
        "For example, ``` if not won :``` does something if this case is not true.\n",
        "\n",
        "This statement is commonly used in games when you want the game to keep running if it isn't won.\n",
        "\n",
        "1. Update the program below to work by adding the **not** keyword below.\n"
      ]
    },
    {
      "cell_type": "code",
      "metadata": {
        "id": "JAIlEapiqLiV"
      },
      "source": [
        "import random\n",
        "\n",
        "done_playing = False\n",
        "\n",
        "while True:\n",
        "    if done_playing:\n",
        "        answer = input(\"Are you done playing?\")\n",
        "        if answer.lower() == 'yes':\n",
        "            done_playing = True\n",
        "            print(\"Goodbye\")\n",
        "            break\n",
        "        else:\n",
        "            print(\"Okay!\")"
      ],
      "execution_count": null,
      "outputs": []
    }
  ]
}